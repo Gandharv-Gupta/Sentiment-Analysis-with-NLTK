{
 "cells": [
  {
   "cell_type": "markdown",
   "metadata": {},
   "source": [
    "# **SENTIMENT-ANALYSIS using NLP without NLTK**"
   ]
  },
  {
   "cell_type": "markdown",
   "metadata": {},
   "source": [
    "## 1.Text-Cleaning:\n",
    "    -Reading the file\n",
    "\n",
    "    -Converting text to lowercase\n",
    "\n",
    "    -Removing Punctuations"
   ]
  },
  {
   "cell_type": "markdown",
   "metadata": {},
   "source": [
    "### 1.1 Reading a text file:"
   ]
  },
  {
   "cell_type": "code",
   "execution_count": 3,
   "metadata": {},
   "outputs": [],
   "source": [
    "path=r\"C:\\Users\\HP\\Desktop\\CODE\\4.PROJECTS\\1.Sentiment Analysis using NLP\\MarkZukerberg-Harvard Speech.txt\"\n",
    "with open(path,encoding='utf-8') as file:\n",
    "    text=file.read()"
   ]
  },
  {
   "cell_type": "code",
   "execution_count": 4,
   "metadata": {},
   "outputs": [
    {
     "data": {
      "text/plain": [
       "'President Faust, Board of Overseers, faculty, alumni, friends, proud parents, members of the ad board, and graduates of the greatest university in the world,\\n\\nI’m honored to be with you today because, let’s face it, you accomplished something I never could. If I get through this speech, it’ll be the first time I actually finish something at Harvard. Class of 2017, congratulations!\\n\\nI’m an unlikely speaker, not just because I dropped out, but because we’re technically in the same generation. We walked this yard less than a decade apart, studied the same ideas and slept through the same Ec10 lectures. We may have taken different paths to get here, especially if you came all the way from the Quad, but today I want to share what I’ve learned about our generation and the world we’re building together.\\n\\nBut first, the last couple of days have brought back a lot of good memories.\\n\\nHow many of you remember exactly what you were doing when you got that email telling you that you got into Harvard? I was playing Civilization and I ran downstairs, got my dad, and for some reason, his reaction was to video me opening the email. That could have been a really sad video. I swear getting into Harvard is still the thing my parents are most proud of me for.\\n\\nWhat about your first lecture at Harvard? Mine was Computer Science 121 with the incredible Harry Lewis. I was late so I threw on a t-shirt and didn’t realize until afterwards it was inside out and backwards with my tag sticking out the front. I couldn’t figure out why no one would talk to me — except one guy, KX Jin, he just went with it. We ended up doing our problem sets together, and now he runs a big part of Facebook. And that, Class of 2017, is why you should be nice to people.\\n\\nBut my best memory from Harvard was meeting Priscilla. I had just launched this prank website Facemash, and the ad board wanted to “see me”. Everyone thought I was going to get kicked out. My parents came to help me pack. My friends threw me a going away party. As luck would have it, Priscilla was at that party with her friend. We met in line for the bathroom in the Pfoho Belltower, and in what must be one of the all time romantic lines, I said: “I’m going to get kicked out in three days, so we need to go on a date quickly.”\\n\\nActually, any of you graduating can use that line.\\n\\nI didn’t end up getting kicked out — I did that to myself. Priscilla and I started dating. And, you know, that movie made it seem like Facemash was so important to creating Facebook. It wasn’t. But without Facemash I wouldn’t have met Priscilla, and she’s the most important person in my life, so you could say it was the most important thing I built in my time here.\\n\\n\\nMark Zuckerberg’s 2017 Harvard Commencement Address\\nWe’ve all started lifelong friendships here, and some of us even families. That’s why I’m so grateful to this place. Thanks, Harvard.\\n\\nToday I want to talk about purpose. But I’m not here to give you the standard commencement about finding your purpose. We’re millennials. We’ll try to do that instinctively. Instead, I’m here to tell you finding your purpose isn’t enough. The challenge for our generation is creating a world where everyone has a sense of purpose.\\n\\nOne of my favorite stories is when John F Kennedy visited the NASA space center, he saw a janitor carrying a broom and he walked over and asked what he was doing. The janitor responded: “Mr. President, I’m helping put a man on the moon”.\\n\\nPurpose is that sense that we are part of something bigger than ourselves, that we are needed, that we have something better ahead to work for. Purpose is what creates true happiness.\\n\\nYou’re graduating at a time when this is especially important. When our parents graduated, purpose reliably came from your job, your church, your community. But today, technology and automation are eliminating many jobs. Membership in communities is declining. Many people feel disconnected and depressed, and are trying to fill a void.\\n\\nAs I’ve traveled around, I’ve sat with children in juvenile detention and opioid addicts, who told me their lives could have turned out differently if they just had something to do, an after school program or somewhere to go. I’ve met factory workers who know their old jobs aren’t coming back and are trying to find their place.\\n\\nTo keep our society moving forward, we have a generational challenge — to not only create new jobs, but create a renewed sense of purpose.\\n\\nI remember the night I launched Facebook from my little dorm in Kirkland House. I went to Noch’s with my friend KX. I remember telling him I was excited to connect the Harvard community, but one day someone would connect the whole world.\\n\\nThe thing is, it never even occurred to me that someone might be us. We were just college kids. We didn’t know anything about that. There were all these big technology companies with resources. I just assumed one of them would do it. But this idea was so clear to us — that all people want to connect. So we just kept moving forward, day by day.\\n\\nI know a lot of you will have your own stories just like this. A change in the world that seems so clear you’re sure someone else will do it. But they won’t. You will.\\n\\nBut it’s not enough to have purpose yourself. You have to create a sense of purpose for others.\\n\\nI found that out the hard way. You see, my hope was never to build a company, but to make an impact. And as all these people started joining us, I just assumed that’s what they cared about too, so I never explained what I hoped we’d build.\\n\\nA couple years in, some big companies wanted to buy us. I didn’t want to sell. I wanted to see if we could connect more people. We were building the first News Feed, and I thought if we could just launch this, it could change how we learn about the world.\\n\\nNearly everyone else wanted to sell. Without a sense of higher purpose, this was the startup dream come true. It tore our company apart. After one tense argument, an advisor told me if I didn’t agree to sell, I would regret the decision for the rest of my life. Relationships were so frayed that within a year or so every single person on the management team was gone.\\n\\nThat was my hardest time leading Facebook. I believed in what we were doing, but I felt alone. And worse, it was my fault. I wondered if I was just wrong, an imposter, a 22 year-old kid who had no idea how the world worked.\\n\\nNow, years later, I understand that *is* how things work with no sense of higher purpose. It’s up to us to create it so we can all keep moving forward together.\\n\\nToday I want to talk about three ways to create a world where everyone has a sense of purpose: by taking on big meaningful projects together, by redefining equality so everyone has the freedom to pursue purpose, and by building community across the world.\\n\\nFirst, let’s take on big meaningful projects.\\n\\nOur generation will have to deal with tens of millions of jobs replaced by automation like self-driving cars and trucks. But we have the potential to do so much more together.\\n\\nEvery generation has its defining works. More than 300,000 people worked to put a man on the moon – including that janitor. Millions of volunteers immunized children around the world against polio. Millions of more people built the Hoover dam and other great projects.\\n\\nThese projects didn’t just provide purpose for the people doing those jobs, they gave our whole country a sense of pride that we could do great things.\\n\\nNow it’s our turn to do great things. I know, you’re probably thinking: I don’t know how to build a dam, or get a million people involved in anything.\\n\\nBut let me tell you a secret: no one does when they begin. Ideas don’t come out fully formed. They only become clear as you work on them. You just have to get started.\\n\\nIf I had to understand everything about connecting people before I began, I never would have started Facebook.\\n\\nMovies and pop culture get this all wrong. The idea of a single eureka moment is a dangerous lie. It makes us feel inadequate since we haven’t had ours. It prevents people with seeds of good ideas from getting started. Oh, you know what else movies get wrong about innovation? No one writes math formulas on glass. That’s not a thing.\\n\\nIt’s good to be idealistic. But be prepared to be misunderstood. Anyone working on a big vision will get called crazy, even if you end up right. Anyone working on a complex problem will get blamed for not fully understanding the challenge, even though it’s impossible to know everything upfront. Anyone taking initiative will get criticized for moving too fast, because there’s always someone who wants to slow you down.\\n\\nIn our society, we often don’t do big things because we’re so afraid of making mistakes that we ignore all the things wrong today if we do nothing. The reality is, anything we do will have issues in the future. But that can’t keep us from starting.\\n\\nSo what are we waiting for? It’s time for our generation-defining public works. How about stopping climate change before we destroy the planet and getting millions of people involved manufacturing and installing solar panels? How about curing all diseases and asking volunteers to track their health data and share their genomes? Today we spend 50x more treating people who are sick than we spend finding cures so people don’t get sick in the first place. That makes no sense. We can fix this. How about modernizing democracy so everyone can vote online, and personalizing education so everyone can learn?\\n\\nThese achievements are within our reach. Let’s do them all in a way that gives everyone in our society a role. Let’s do big things, not only to create progress, but to create purpose.\\n\\nSo taking on big meaningful projects is the first thing we can do to create a world where everyone has a sense of purpose.\\n\\nThe second is redefining equality to give everyone the freedom they need to pursue purpose.\\n\\nMany of our parents had stable jobs throughout their careers. Now we’re all entrepreneurial, whether we’re starting projects or finding or role. And that’s great. Our culture of entrepreneurship is how we create so much progress.\\n\\nNow, an entrepreneurial culture thrives when it’s easy to try lots of new ideas. Facebook wasn’t the first thing I built. I also built games, chat systems, study tools and music players. I’m not alone. JK Rowling got rejected 12 times before publishing Harry Potter. Even Beyonce had to make hundreds of songs to get Halo. The greatest successes come from having the freedom to fail.\\n\\nBut today, we have a level of wealth inequality that hurts everyone. When you don’t have the freedom to take your idea and turn it into a historic enterprise, we all lose. Right now our society is way over-indexed on rewarding success and we don’t do nearly enough to make it easy for everyone to take lots of shots.\\n\\nLet’s face it. There is something wrong with our system when I can leave here and make billions of dollars in 10 years while millions of students can’t afford to pay off their loans, let alone start a business.\\n\\nLook, I know a lot of entrepreneurs, and I don’t know a single person who gave up on starting a business because they might not make enough money. But I know lots of people who haven’t pursued dreams because they didn’t have a cushion to fall back on if they failed.\\n\\nWe all know we don’t succeed just by having a good idea or working hard. We succeed by being lucky too. If I had to support my family growing up instead of having time to code, if I didn’t know I’d be fine if Facebook didn’t work out, I wouldn’t be standing here today. If we’re honest, we all know how much luck we’ve had.\\n\\nEvery generation expands its definition of equality. Previous generations fought for the vote and civil rights. They had the New Deal and Great Society. Now it’s our time to define a new social contract for our generation.\\n\\nWe should have a society that measures progress not just by economic metrics like GDP, but by how many of us have a role we find meaningful. We should explore ideas like universal basic income to give everyone a cushion to try new things. We’re going to change jobs many times, so we need affordable childcare to get to work and healthcare that aren’t tied to one company. We’re all going to make mistakes, so we need a society that focuses less on locking us up or stigmatizing us. And as technology keeps changing, we need to focus more on continuous education throughout our lives.\\n\\nAnd yes, giving everyone the freedom to pursue purpose isn’t free. People like me should pay for it. Many of you will do well and you should too.\\n\\nThat’s why Priscilla and I started the Chan Zuckerberg Initiative and committed our wealth to promoting equal opportunity. These are the values of our generation. It was never a question of if we were going to do this. The only question was when.\\n\\nMillennials are already one of the most charitable generations in history. In one year, three of four US millennials made a donation and seven out of ten raised money for charity.\\n\\nBut it’s not just about money. You can also give time. I promise you, if you take an hour or two a week — that’s all it takes to give someone a hand, to help them reach their potential.\\n\\nMaybe you think that’s too much time. I used to. When Priscilla graduated from Harvard she became a teacher, and before she’d do education work with me, she told me I needed to teach a class. I complained: “Well, I’m kind of busy. I’m running this company.” But she insisted, so I taught a middle school program on entrepreneurship at the local Boys and Girls Club.\\n\\nI taught them lessons on product development and marketing, and they taught me what it’s like feeling targeted for your race and having a family member in prison. I shared stories from my time in school, and they shared their hope of one day going to college too. For five years now, I’ve been having dinner with those kids every month. One of them threw me and Priscilla our first baby shower. And next year they’re going to college. Every one of them. First in their families.\\n\\nWe can all make time to give someone a hand. Let’s give everyone the freedom to pursue their purpose — not only because it’s the right thing to do, but because when more people can turn their dreams into something great, we’re all better for it.\\n\\nPurpose doesn’t only come from work. The third way we can create a sense of purpose for everyone is by building community. And when our generation says “everyone”, we mean everyone in the world.\\n\\nQuick show of hands: how many of you are from another country? Now, how many of you are friends with one of these folks? Now we’re talking. We have grown up connected.\\n\\nIn a survey asking millennials around the world what defines our identity, the most popular answer wasn’t nationality, religion or ethnicity, it was “citizen of the world”. That’s a big deal.\\n\\nEvery generation expands the circle of people we consider “one of us”. For us, it now encompasses the entire world.\\n\\nWe understand the great arc of human history bends towards people coming together in ever greater numbers — from tribes to cities to nations — to achieve things we couldn’t on our own.\\n\\nWe get that our greatest opportunities are now global — we can be the generation that ends poverty, that ends disease. We get that our greatest challenges need global responses too — no country can fight climate change alone or prevent pandemics. Progress now requires coming together not just as cities or nations, but also as a global community.\\n\\nBut we live in an unstable time. There are people left behind by globalization across the world. It’s hard to care about people in other places if we don’t feel good about our lives here at home. There’s pressure to turn inwards.\\n\\nThis is the struggle of our time. The forces of freedom, openness and global community against the forces of authoritarianism, isolationism and nationalism. Forces for the flow of knowledge, trade and immigration against those who would slow them down. This is not a battle of nations, it’s a battle of ideas. There are people in every country for global connection and good people against it.\\n\\nThis isn’t going to be decided at the UN either. It’s going to happen at the local level, when enough of us feel a sense of purpose and stability in our own lives that we can open up and start caring about everyone. The best way to do that is to start building local communities right now.\\n\\nWe all get meaning from our communities. Whether our communities are houses or sports teams, churches or music groups, they give us that sense we are part of something bigger, that we are not alone; they give us the strength to expand our horizons.\\n\\nThat’s why it’s so striking that for decades, membership in all kinds of groups has declined as much as one-quarter. That’s a lot of people who now need to find purpose somewhere else.\\n\\nBut I know we can rebuild our communities and start new ones because many of you already are.\\n\\nI met Agnes Igoye, who’s graduating today. Where are you, Agnes? She spent her childhood navigating conflict zones in Uganda, and now she trains thousands of law enforcement officers to keep communities safe.\\n\\nI met Kayla Oakley and Niha Jain, graduating today, too. Stand up. Kayla and Niha started a non-profit that connects people suffering from illnesses with people in their communities willing to help.\\n\\nI met David Razu Aznar, graduating from the Kennedy School today. David, stand up. He’s a former city councilor who successfully led the battle to make Mexico City the first Latin American city to pass marriage equality — even before San Francisco.\\n\\nThis is my story too. A student in a dorm room, connecting one community at a time, and keeping at it until one day we connect the whole world.\\n\\nChange starts local. Even global changes start small — with people like us. In our generation, the struggle of whether we connect more, whether we achieve our biggest opportunities, comes down to this — your ability to build communities and create a world where every single person has a sense of purpose.\\n\\nClass of 2017, you are graduating into a world that needs purpose. It’s up to you to create it.\\n\\nNow, you may be thinking: can I really do this?\\n\\nRemember when I told you about that class I taught at the Boys and Girls Club? One day after class I was talking to them about college, and one of my top students raised his hand and said he wasn’t sure he could go because he’s undocumented. He didn’t know if they’d let him in.\\n\\nLast year I took him out to breakfast for his birthday. I wanted to get him a present, so I asked him and he started talking about students he saw struggling and said “You know, I’d really just like a book on social justice.”\\n\\nI was blown away. Here’s a young guy who has every reason to be cynical. He didn’t know if the country he calls home — the only one he’s known — would deny him his dream of going to college. But he wasn’t feeling sorry for himself. He wasn’t even thinking of himself. He has a greater sense of purpose, and he’s going to bring people along with him.\\n\\nIt says something about our current situation that I can’t even say his name because I don’t want to put him at risk. But if a high school senior who doesn’t know what the future holds can do his part to move the world forward, then we owe it to the world to do our part too.\\n\\nBefore you walk out those gates one last time, as we sit in front of Memorial Church, I am reminded of a prayer, Mi Shebeirach, that I say whenever I face a challenge, that I sing to my daughter thinking about her future when I tuck her into bed. It goes:\\n\\n“May the source of strength, who blessed the ones before us, help us *find the courage* to make our lives a blessing.”\\n\\nI hope you find the courage to make your life a blessing.\\n\\nCongratulations, Class of ’17! Good luck out there.'"
      ]
     },
     "execution_count": 4,
     "metadata": {},
     "output_type": "execute_result"
    }
   ],
   "source": [
    "text"
   ]
  },
  {
   "cell_type": "markdown",
   "metadata": {},
   "source": [
    "### 1.2 Converting text to Lower-case:"
   ]
  },
  {
   "cell_type": "code",
   "execution_count": 5,
   "metadata": {},
   "outputs": [],
   "source": [
    "text_lower=text.lower()"
   ]
  },
  {
   "cell_type": "code",
   "execution_count": 6,
   "metadata": {},
   "outputs": [
    {
     "data": {
      "text/plain": [
       "'president faust, board of overseers, faculty, alumni, friends, proud parents, members of the ad board, and graduates of the greatest university in the world,\\n\\ni’m honored to be with you today because, let’s face it, you accomplished something i never could. if i get through this speech, it’ll be the first time i actually finish something at harvard. class of 2017, congratulations!\\n\\ni’m an unlikely speaker, not just because i dropped out, but because we’re technically in the same generation. we walked this yard less than a decade apart, studied the same ideas and slept through the same ec10 lectures. we may have taken different paths to get here, especially if you came all the way from the quad, but today i want to share what i’ve learned about our generation and the world we’re building together.\\n\\nbut first, the last couple of days have brought back a lot of good memories.\\n\\nhow many of you remember exactly what you were doing when you got that email telling you that you got into harvard? i was playing civilization and i ran downstairs, got my dad, and for some reason, his reaction was to video me opening the email. that could have been a really sad video. i swear getting into harvard is still the thing my parents are most proud of me for.\\n\\nwhat about your first lecture at harvard? mine was computer science 121 with the incredible harry lewis. i was late so i threw on a t-shirt and didn’t realize until afterwards it was inside out and backwards with my tag sticking out the front. i couldn’t figure out why no one would talk to me — except one guy, kx jin, he just went with it. we ended up doing our problem sets together, and now he runs a big part of facebook. and that, class of 2017, is why you should be nice to people.\\n\\nbut my best memory from harvard was meeting priscilla. i had just launched this prank website facemash, and the ad board wanted to “see me”. everyone thought i was going to get kicked out. my parents came to help me pack. my friends threw me a going away party. as luck would have it, priscilla was at that party with her friend. we met in line for the bathroom in the pfoho belltower, and in what must be one of the all time romantic lines, i said: “i’m going to get kicked out in three days, so we need to go on a date quickly.”\\n\\nactually, any of you graduating can use that line.\\n\\ni didn’t end up getting kicked out — i did that to myself. priscilla and i started dating. and, you know, that movie made it seem like facemash was so important to creating facebook. it wasn’t. but without facemash i wouldn’t have met priscilla, and she’s the most important person in my life, so you could say it was the most important thing i built in my time here.\\n\\n\\nmark zuckerberg’s 2017 harvard commencement address\\nwe’ve all started lifelong friendships here, and some of us even families. that’s why i’m so grateful to this place. thanks, harvard.\\n\\ntoday i want to talk about purpose. but i’m not here to give you the standard commencement about finding your purpose. we’re millennials. we’ll try to do that instinctively. instead, i’m here to tell you finding your purpose isn’t enough. the challenge for our generation is creating a world where everyone has a sense of purpose.\\n\\none of my favorite stories is when john f kennedy visited the nasa space center, he saw a janitor carrying a broom and he walked over and asked what he was doing. the janitor responded: “mr. president, i’m helping put a man on the moon”.\\n\\npurpose is that sense that we are part of something bigger than ourselves, that we are needed, that we have something better ahead to work for. purpose is what creates true happiness.\\n\\nyou’re graduating at a time when this is especially important. when our parents graduated, purpose reliably came from your job, your church, your community. but today, technology and automation are eliminating many jobs. membership in communities is declining. many people feel disconnected and depressed, and are trying to fill a void.\\n\\nas i’ve traveled around, i’ve sat with children in juvenile detention and opioid addicts, who told me their lives could have turned out differently if they just had something to do, an after school program or somewhere to go. i’ve met factory workers who know their old jobs aren’t coming back and are trying to find their place.\\n\\nto keep our society moving forward, we have a generational challenge — to not only create new jobs, but create a renewed sense of purpose.\\n\\ni remember the night i launched facebook from my little dorm in kirkland house. i went to noch’s with my friend kx. i remember telling him i was excited to connect the harvard community, but one day someone would connect the whole world.\\n\\nthe thing is, it never even occurred to me that someone might be us. we were just college kids. we didn’t know anything about that. there were all these big technology companies with resources. i just assumed one of them would do it. but this idea was so clear to us — that all people want to connect. so we just kept moving forward, day by day.\\n\\ni know a lot of you will have your own stories just like this. a change in the world that seems so clear you’re sure someone else will do it. but they won’t. you will.\\n\\nbut it’s not enough to have purpose yourself. you have to create a sense of purpose for others.\\n\\ni found that out the hard way. you see, my hope was never to build a company, but to make an impact. and as all these people started joining us, i just assumed that’s what they cared about too, so i never explained what i hoped we’d build.\\n\\na couple years in, some big companies wanted to buy us. i didn’t want to sell. i wanted to see if we could connect more people. we were building the first news feed, and i thought if we could just launch this, it could change how we learn about the world.\\n\\nnearly everyone else wanted to sell. without a sense of higher purpose, this was the startup dream come true. it tore our company apart. after one tense argument, an advisor told me if i didn’t agree to sell, i would regret the decision for the rest of my life. relationships were so frayed that within a year or so every single person on the management team was gone.\\n\\nthat was my hardest time leading facebook. i believed in what we were doing, but i felt alone. and worse, it was my fault. i wondered if i was just wrong, an imposter, a 22 year-old kid who had no idea how the world worked.\\n\\nnow, years later, i understand that *is* how things work with no sense of higher purpose. it’s up to us to create it so we can all keep moving forward together.\\n\\ntoday i want to talk about three ways to create a world where everyone has a sense of purpose: by taking on big meaningful projects together, by redefining equality so everyone has the freedom to pursue purpose, and by building community across the world.\\n\\nfirst, let’s take on big meaningful projects.\\n\\nour generation will have to deal with tens of millions of jobs replaced by automation like self-driving cars and trucks. but we have the potential to do so much more together.\\n\\nevery generation has its defining works. more than 300,000 people worked to put a man on the moon – including that janitor. millions of volunteers immunized children around the world against polio. millions of more people built the hoover dam and other great projects.\\n\\nthese projects didn’t just provide purpose for the people doing those jobs, they gave our whole country a sense of pride that we could do great things.\\n\\nnow it’s our turn to do great things. i know, you’re probably thinking: i don’t know how to build a dam, or get a million people involved in anything.\\n\\nbut let me tell you a secret: no one does when they begin. ideas don’t come out fully formed. they only become clear as you work on them. you just have to get started.\\n\\nif i had to understand everything about connecting people before i began, i never would have started facebook.\\n\\nmovies and pop culture get this all wrong. the idea of a single eureka moment is a dangerous lie. it makes us feel inadequate since we haven’t had ours. it prevents people with seeds of good ideas from getting started. oh, you know what else movies get wrong about innovation? no one writes math formulas on glass. that’s not a thing.\\n\\nit’s good to be idealistic. but be prepared to be misunderstood. anyone working on a big vision will get called crazy, even if you end up right. anyone working on a complex problem will get blamed for not fully understanding the challenge, even though it’s impossible to know everything upfront. anyone taking initiative will get criticized for moving too fast, because there’s always someone who wants to slow you down.\\n\\nin our society, we often don’t do big things because we’re so afraid of making mistakes that we ignore all the things wrong today if we do nothing. the reality is, anything we do will have issues in the future. but that can’t keep us from starting.\\n\\nso what are we waiting for? it’s time for our generation-defining public works. how about stopping climate change before we destroy the planet and getting millions of people involved manufacturing and installing solar panels? how about curing all diseases and asking volunteers to track their health data and share their genomes? today we spend 50x more treating people who are sick than we spend finding cures so people don’t get sick in the first place. that makes no sense. we can fix this. how about modernizing democracy so everyone can vote online, and personalizing education so everyone can learn?\\n\\nthese achievements are within our reach. let’s do them all in a way that gives everyone in our society a role. let’s do big things, not only to create progress, but to create purpose.\\n\\nso taking on big meaningful projects is the first thing we can do to create a world where everyone has a sense of purpose.\\n\\nthe second is redefining equality to give everyone the freedom they need to pursue purpose.\\n\\nmany of our parents had stable jobs throughout their careers. now we’re all entrepreneurial, whether we’re starting projects or finding or role. and that’s great. our culture of entrepreneurship is how we create so much progress.\\n\\nnow, an entrepreneurial culture thrives when it’s easy to try lots of new ideas. facebook wasn’t the first thing i built. i also built games, chat systems, study tools and music players. i’m not alone. jk rowling got rejected 12 times before publishing harry potter. even beyonce had to make hundreds of songs to get halo. the greatest successes come from having the freedom to fail.\\n\\nbut today, we have a level of wealth inequality that hurts everyone. when you don’t have the freedom to take your idea and turn it into a historic enterprise, we all lose. right now our society is way over-indexed on rewarding success and we don’t do nearly enough to make it easy for everyone to take lots of shots.\\n\\nlet’s face it. there is something wrong with our system when i can leave here and make billions of dollars in 10 years while millions of students can’t afford to pay off their loans, let alone start a business.\\n\\nlook, i know a lot of entrepreneurs, and i don’t know a single person who gave up on starting a business because they might not make enough money. but i know lots of people who haven’t pursued dreams because they didn’t have a cushion to fall back on if they failed.\\n\\nwe all know we don’t succeed just by having a good idea or working hard. we succeed by being lucky too. if i had to support my family growing up instead of having time to code, if i didn’t know i’d be fine if facebook didn’t work out, i wouldn’t be standing here today. if we’re honest, we all know how much luck we’ve had.\\n\\nevery generation expands its definition of equality. previous generations fought for the vote and civil rights. they had the new deal and great society. now it’s our time to define a new social contract for our generation.\\n\\nwe should have a society that measures progress not just by economic metrics like gdp, but by how many of us have a role we find meaningful. we should explore ideas like universal basic income to give everyone a cushion to try new things. we’re going to change jobs many times, so we need affordable childcare to get to work and healthcare that aren’t tied to one company. we’re all going to make mistakes, so we need a society that focuses less on locking us up or stigmatizing us. and as technology keeps changing, we need to focus more on continuous education throughout our lives.\\n\\nand yes, giving everyone the freedom to pursue purpose isn’t free. people like me should pay for it. many of you will do well and you should too.\\n\\nthat’s why priscilla and i started the chan zuckerberg initiative and committed our wealth to promoting equal opportunity. these are the values of our generation. it was never a question of if we were going to do this. the only question was when.\\n\\nmillennials are already one of the most charitable generations in history. in one year, three of four us millennials made a donation and seven out of ten raised money for charity.\\n\\nbut it’s not just about money. you can also give time. i promise you, if you take an hour or two a week — that’s all it takes to give someone a hand, to help them reach their potential.\\n\\nmaybe you think that’s too much time. i used to. when priscilla graduated from harvard she became a teacher, and before she’d do education work with me, she told me i needed to teach a class. i complained: “well, i’m kind of busy. i’m running this company.” but she insisted, so i taught a middle school program on entrepreneurship at the local boys and girls club.\\n\\ni taught them lessons on product development and marketing, and they taught me what it’s like feeling targeted for your race and having a family member in prison. i shared stories from my time in school, and they shared their hope of one day going to college too. for five years now, i’ve been having dinner with those kids every month. one of them threw me and priscilla our first baby shower. and next year they’re going to college. every one of them. first in their families.\\n\\nwe can all make time to give someone a hand. let’s give everyone the freedom to pursue their purpose — not only because it’s the right thing to do, but because when more people can turn their dreams into something great, we’re all better for it.\\n\\npurpose doesn’t only come from work. the third way we can create a sense of purpose for everyone is by building community. and when our generation says “everyone”, we mean everyone in the world.\\n\\nquick show of hands: how many of you are from another country? now, how many of you are friends with one of these folks? now we’re talking. we have grown up connected.\\n\\nin a survey asking millennials around the world what defines our identity, the most popular answer wasn’t nationality, religion or ethnicity, it was “citizen of the world”. that’s a big deal.\\n\\nevery generation expands the circle of people we consider “one of us”. for us, it now encompasses the entire world.\\n\\nwe understand the great arc of human history bends towards people coming together in ever greater numbers — from tribes to cities to nations — to achieve things we couldn’t on our own.\\n\\nwe get that our greatest opportunities are now global — we can be the generation that ends poverty, that ends disease. we get that our greatest challenges need global responses too — no country can fight climate change alone or prevent pandemics. progress now requires coming together not just as cities or nations, but also as a global community.\\n\\nbut we live in an unstable time. there are people left behind by globalization across the world. it’s hard to care about people in other places if we don’t feel good about our lives here at home. there’s pressure to turn inwards.\\n\\nthis is the struggle of our time. the forces of freedom, openness and global community against the forces of authoritarianism, isolationism and nationalism. forces for the flow of knowledge, trade and immigration against those who would slow them down. this is not a battle of nations, it’s a battle of ideas. there are people in every country for global connection and good people against it.\\n\\nthis isn’t going to be decided at the un either. it’s going to happen at the local level, when enough of us feel a sense of purpose and stability in our own lives that we can open up and start caring about everyone. the best way to do that is to start building local communities right now.\\n\\nwe all get meaning from our communities. whether our communities are houses or sports teams, churches or music groups, they give us that sense we are part of something bigger, that we are not alone; they give us the strength to expand our horizons.\\n\\nthat’s why it’s so striking that for decades, membership in all kinds of groups has declined as much as one-quarter. that’s a lot of people who now need to find purpose somewhere else.\\n\\nbut i know we can rebuild our communities and start new ones because many of you already are.\\n\\ni met agnes igoye, who’s graduating today. where are you, agnes? she spent her childhood navigating conflict zones in uganda, and now she trains thousands of law enforcement officers to keep communities safe.\\n\\ni met kayla oakley and niha jain, graduating today, too. stand up. kayla and niha started a non-profit that connects people suffering from illnesses with people in their communities willing to help.\\n\\ni met david razu aznar, graduating from the kennedy school today. david, stand up. he’s a former city councilor who successfully led the battle to make mexico city the first latin american city to pass marriage equality — even before san francisco.\\n\\nthis is my story too. a student in a dorm room, connecting one community at a time, and keeping at it until one day we connect the whole world.\\n\\nchange starts local. even global changes start small — with people like us. in our generation, the struggle of whether we connect more, whether we achieve our biggest opportunities, comes down to this — your ability to build communities and create a world where every single person has a sense of purpose.\\n\\nclass of 2017, you are graduating into a world that needs purpose. it’s up to you to create it.\\n\\nnow, you may be thinking: can i really do this?\\n\\nremember when i told you about that class i taught at the boys and girls club? one day after class i was talking to them about college, and one of my top students raised his hand and said he wasn’t sure he could go because he’s undocumented. he didn’t know if they’d let him in.\\n\\nlast year i took him out to breakfast for his birthday. i wanted to get him a present, so i asked him and he started talking about students he saw struggling and said “you know, i’d really just like a book on social justice.”\\n\\ni was blown away. here’s a young guy who has every reason to be cynical. he didn’t know if the country he calls home — the only one he’s known — would deny him his dream of going to college. but he wasn’t feeling sorry for himself. he wasn’t even thinking of himself. he has a greater sense of purpose, and he’s going to bring people along with him.\\n\\nit says something about our current situation that i can’t even say his name because i don’t want to put him at risk. but if a high school senior who doesn’t know what the future holds can do his part to move the world forward, then we owe it to the world to do our part too.\\n\\nbefore you walk out those gates one last time, as we sit in front of memorial church, i am reminded of a prayer, mi shebeirach, that i say whenever i face a challenge, that i sing to my daughter thinking about her future when i tuck her into bed. it goes:\\n\\n“may the source of strength, who blessed the ones before us, help us *find the courage* to make our lives a blessing.”\\n\\ni hope you find the courage to make your life a blessing.\\n\\ncongratulations, class of ’17! good luck out there.'"
      ]
     },
     "execution_count": 6,
     "metadata": {},
     "output_type": "execute_result"
    }
   ],
   "source": [
    "text_lower"
   ]
  },
  {
   "cell_type": "markdown",
   "metadata": {},
   "source": [
    "### 1.3 Removing Punctuations:"
   ]
  },
  {
   "cell_type": "code",
   "execution_count": 7,
   "metadata": {},
   "outputs": [
    {
     "name": "stdout",
     "output_type": "stream",
     "text": [
      "!\"#$%&'()*+,-./:;<=>?@[\\]^_`{|}~\n"
     ]
    }
   ],
   "source": [
    "import string\n",
    "punctuations=string.punctuation\n",
    "print(punctuations)"
   ]
  },
  {
   "cell_type": "markdown",
   "metadata": {},
   "source": [
    "Variable 'punctuations' contains all the available punctuations in python"
   ]
  },
  {
   "cell_type": "code",
   "execution_count": 8,
   "metadata": {},
   "outputs": [
    {
     "data": {
      "text/plain": [
       "'president faust board of overseers faculty alumni friends proud parents members of the ad board and graduates of the greatest university in the worldi’m honored to be with you today because let’s face it you accomplished something i never could if i get through this speech it’ll be the first time i actually finish something at harvard class of 2017 congratulationsi’m an unlikely speaker not just because i dropped out but because we’re technically in the same generation we walked this yard less than a decade apart studied the same ideas and slept through the same ec10 lectures we may have taken different paths to get here especially if you came all the way from the quad but today i want to share what i’ve learned about our generation and the world we’re building togetherbut first the last couple of days have brought back a lot of good memorieshow many of you remember exactly what you were doing when you got that email telling you that you got into harvard i was playing civilization and i ran downstairs got my dad and for some reason his reaction was to video me opening the email that could have been a really sad video i swear getting into harvard is still the thing my parents are most proud of me forwhat about your first lecture at harvard mine was computer science 121 with the incredible harry lewis i was late so i threw on a tshirt and didn’t realize until afterwards it was inside out and backwards with my tag sticking out the front i couldn’t figure out why no one would talk to me — except one guy kx jin he just went with it we ended up doing our problem sets together and now he runs a big part of facebook and that class of 2017 is why you should be nice to peoplebut my best memory from harvard was meeting priscilla i had just launched this prank website facemash and the ad board wanted to “see me” everyone thought i was going to get kicked out my parents came to help me pack my friends threw me a going away party as luck would have it priscilla was at that party with her friend we met in line for the bathroom in the pfoho belltower and in what must be one of the all time romantic lines i said “i’m going to get kicked out in three days so we need to go on a date quickly”actually any of you graduating can use that linei didn’t end up getting kicked out — i did that to myself priscilla and i started dating and you know that movie made it seem like facemash was so important to creating facebook it wasn’t but without facemash i wouldn’t have met priscilla and she’s the most important person in my life so you could say it was the most important thing i built in my time heremark zuckerberg’s 2017 harvard commencement addresswe’ve all started lifelong friendships here and some of us even families that’s why i’m so grateful to this place thanks harvardtoday i want to talk about purpose but i’m not here to give you the standard commencement about finding your purpose we’re millennials we’ll try to do that instinctively instead i’m here to tell you finding your purpose isn’t enough the challenge for our generation is creating a world where everyone has a sense of purposeone of my favorite stories is when john f kennedy visited the nasa space center he saw a janitor carrying a broom and he walked over and asked what he was doing the janitor responded “mr president i’m helping put a man on the moon”purpose is that sense that we are part of something bigger than ourselves that we are needed that we have something better ahead to work for purpose is what creates true happinessyou’re graduating at a time when this is especially important when our parents graduated purpose reliably came from your job your church your community but today technology and automation are eliminating many jobs membership in communities is declining many people feel disconnected and depressed and are trying to fill a voidas i’ve traveled around i’ve sat with children in juvenile detention and opioid addicts who told me their lives could have turned out differently if they just had something to do an after school program or somewhere to go i’ve met factory workers who know their old jobs aren’t coming back and are trying to find their placeto keep our society moving forward we have a generational challenge — to not only create new jobs but create a renewed sense of purposei remember the night i launched facebook from my little dorm in kirkland house i went to noch’s with my friend kx i remember telling him i was excited to connect the harvard community but one day someone would connect the whole worldthe thing is it never even occurred to me that someone might be us we were just college kids we didn’t know anything about that there were all these big technology companies with resources i just assumed one of them would do it but this idea was so clear to us — that all people want to connect so we just kept moving forward day by dayi know a lot of you will have your own stories just like this a change in the world that seems so clear you’re sure someone else will do it but they won’t you willbut it’s not enough to have purpose yourself you have to create a sense of purpose for othersi found that out the hard way you see my hope was never to build a company but to make an impact and as all these people started joining us i just assumed that’s what they cared about too so i never explained what i hoped we’d builda couple years in some big companies wanted to buy us i didn’t want to sell i wanted to see if we could connect more people we were building the first news feed and i thought if we could just launch this it could change how we learn about the worldnearly everyone else wanted to sell without a sense of higher purpose this was the startup dream come true it tore our company apart after one tense argument an advisor told me if i didn’t agree to sell i would regret the decision for the rest of my life relationships were so frayed that within a year or so every single person on the management team was gonethat was my hardest time leading facebook i believed in what we were doing but i felt alone and worse it was my fault i wondered if i was just wrong an imposter a 22 yearold kid who had no idea how the world workednow years later i understand that is how things work with no sense of higher purpose it’s up to us to create it so we can all keep moving forward togethertoday i want to talk about three ways to create a world where everyone has a sense of purpose by taking on big meaningful projects together by redefining equality so everyone has the freedom to pursue purpose and by building community across the worldfirst let’s take on big meaningful projectsour generation will have to deal with tens of millions of jobs replaced by automation like selfdriving cars and trucks but we have the potential to do so much more togetherevery generation has its defining works more than 300000 people worked to put a man on the moon – including that janitor millions of volunteers immunized children around the world against polio millions of more people built the hoover dam and other great projectsthese projects didn’t just provide purpose for the people doing those jobs they gave our whole country a sense of pride that we could do great thingsnow it’s our turn to do great things i know you’re probably thinking i don’t know how to build a dam or get a million people involved in anythingbut let me tell you a secret no one does when they begin ideas don’t come out fully formed they only become clear as you work on them you just have to get startedif i had to understand everything about connecting people before i began i never would have started facebookmovies and pop culture get this all wrong the idea of a single eureka moment is a dangerous lie it makes us feel inadequate since we haven’t had ours it prevents people with seeds of good ideas from getting started oh you know what else movies get wrong about innovation no one writes math formulas on glass that’s not a thingit’s good to be idealistic but be prepared to be misunderstood anyone working on a big vision will get called crazy even if you end up right anyone working on a complex problem will get blamed for not fully understanding the challenge even though it’s impossible to know everything upfront anyone taking initiative will get criticized for moving too fast because there’s always someone who wants to slow you downin our society we often don’t do big things because we’re so afraid of making mistakes that we ignore all the things wrong today if we do nothing the reality is anything we do will have issues in the future but that can’t keep us from startingso what are we waiting for it’s time for our generationdefining public works how about stopping climate change before we destroy the planet and getting millions of people involved manufacturing and installing solar panels how about curing all diseases and asking volunteers to track their health data and share their genomes today we spend 50x more treating people who are sick than we spend finding cures so people don’t get sick in the first place that makes no sense we can fix this how about modernizing democracy so everyone can vote online and personalizing education so everyone can learnthese achievements are within our reach let’s do them all in a way that gives everyone in our society a role let’s do big things not only to create progress but to create purposeso taking on big meaningful projects is the first thing we can do to create a world where everyone has a sense of purposethe second is redefining equality to give everyone the freedom they need to pursue purposemany of our parents had stable jobs throughout their careers now we’re all entrepreneurial whether we’re starting projects or finding or role and that’s great our culture of entrepreneurship is how we create so much progressnow an entrepreneurial culture thrives when it’s easy to try lots of new ideas facebook wasn’t the first thing i built i also built games chat systems study tools and music players i’m not alone jk rowling got rejected 12 times before publishing harry potter even beyonce had to make hundreds of songs to get halo the greatest successes come from having the freedom to failbut today we have a level of wealth inequality that hurts everyone when you don’t have the freedom to take your idea and turn it into a historic enterprise we all lose right now our society is way overindexed on rewarding success and we don’t do nearly enough to make it easy for everyone to take lots of shotslet’s face it there is something wrong with our system when i can leave here and make billions of dollars in 10 years while millions of students can’t afford to pay off their loans let alone start a businesslook i know a lot of entrepreneurs and i don’t know a single person who gave up on starting a business because they might not make enough money but i know lots of people who haven’t pursued dreams because they didn’t have a cushion to fall back on if they failedwe all know we don’t succeed just by having a good idea or working hard we succeed by being lucky too if i had to support my family growing up instead of having time to code if i didn’t know i’d be fine if facebook didn’t work out i wouldn’t be standing here today if we’re honest we all know how much luck we’ve hadevery generation expands its definition of equality previous generations fought for the vote and civil rights they had the new deal and great society now it’s our time to define a new social contract for our generationwe should have a society that measures progress not just by economic metrics like gdp but by how many of us have a role we find meaningful we should explore ideas like universal basic income to give everyone a cushion to try new things we’re going to change jobs many times so we need affordable childcare to get to work and healthcare that aren’t tied to one company we’re all going to make mistakes so we need a society that focuses less on locking us up or stigmatizing us and as technology keeps changing we need to focus more on continuous education throughout our livesand yes giving everyone the freedom to pursue purpose isn’t free people like me should pay for it many of you will do well and you should toothat’s why priscilla and i started the chan zuckerberg initiative and committed our wealth to promoting equal opportunity these are the values of our generation it was never a question of if we were going to do this the only question was whenmillennials are already one of the most charitable generations in history in one year three of four us millennials made a donation and seven out of ten raised money for charitybut it’s not just about money you can also give time i promise you if you take an hour or two a week — that’s all it takes to give someone a hand to help them reach their potentialmaybe you think that’s too much time i used to when priscilla graduated from harvard she became a teacher and before she’d do education work with me she told me i needed to teach a class i complained “well i’m kind of busy i’m running this company” but she insisted so i taught a middle school program on entrepreneurship at the local boys and girls clubi taught them lessons on product development and marketing and they taught me what it’s like feeling targeted for your race and having a family member in prison i shared stories from my time in school and they shared their hope of one day going to college too for five years now i’ve been having dinner with those kids every month one of them threw me and priscilla our first baby shower and next year they’re going to college every one of them first in their familieswe can all make time to give someone a hand let’s give everyone the freedom to pursue their purpose — not only because it’s the right thing to do but because when more people can turn their dreams into something great we’re all better for itpurpose doesn’t only come from work the third way we can create a sense of purpose for everyone is by building community and when our generation says “everyone” we mean everyone in the worldquick show of hands how many of you are from another country now how many of you are friends with one of these folks now we’re talking we have grown up connectedin a survey asking millennials around the world what defines our identity the most popular answer wasn’t nationality religion or ethnicity it was “citizen of the world” that’s a big dealevery generation expands the circle of people we consider “one of us” for us it now encompasses the entire worldwe understand the great arc of human history bends towards people coming together in ever greater numbers — from tribes to cities to nations — to achieve things we couldn’t on our ownwe get that our greatest opportunities are now global — we can be the generation that ends poverty that ends disease we get that our greatest challenges need global responses too — no country can fight climate change alone or prevent pandemics progress now requires coming together not just as cities or nations but also as a global communitybut we live in an unstable time there are people left behind by globalization across the world it’s hard to care about people in other places if we don’t feel good about our lives here at home there’s pressure to turn inwardsthis is the struggle of our time the forces of freedom openness and global community against the forces of authoritarianism isolationism and nationalism forces for the flow of knowledge trade and immigration against those who would slow them down this is not a battle of nations it’s a battle of ideas there are people in every country for global connection and good people against itthis isn’t going to be decided at the un either it’s going to happen at the local level when enough of us feel a sense of purpose and stability in our own lives that we can open up and start caring about everyone the best way to do that is to start building local communities right nowwe all get meaning from our communities whether our communities are houses or sports teams churches or music groups they give us that sense we are part of something bigger that we are not alone they give us the strength to expand our horizonsthat’s why it’s so striking that for decades membership in all kinds of groups has declined as much as onequarter that’s a lot of people who now need to find purpose somewhere elsebut i know we can rebuild our communities and start new ones because many of you already arei met agnes igoye who’s graduating today where are you agnes she spent her childhood navigating conflict zones in uganda and now she trains thousands of law enforcement officers to keep communities safei met kayla oakley and niha jain graduating today too stand up kayla and niha started a nonprofit that connects people suffering from illnesses with people in their communities willing to helpi met david razu aznar graduating from the kennedy school today david stand up he’s a former city councilor who successfully led the battle to make mexico city the first latin american city to pass marriage equality — even before san franciscothis is my story too a student in a dorm room connecting one community at a time and keeping at it until one day we connect the whole worldchange starts local even global changes start small — with people like us in our generation the struggle of whether we connect more whether we achieve our biggest opportunities comes down to this — your ability to build communities and create a world where every single person has a sense of purposeclass of 2017 you are graduating into a world that needs purpose it’s up to you to create itnow you may be thinking can i really do thisremember when i told you about that class i taught at the boys and girls club one day after class i was talking to them about college and one of my top students raised his hand and said he wasn’t sure he could go because he’s undocumented he didn’t know if they’d let him inlast year i took him out to breakfast for his birthday i wanted to get him a present so i asked him and he started talking about students he saw struggling and said “you know i’d really just like a book on social justice”i was blown away here’s a young guy who has every reason to be cynical he didn’t know if the country he calls home — the only one he’s known — would deny him his dream of going to college but he wasn’t feeling sorry for himself he wasn’t even thinking of himself he has a greater sense of purpose and he’s going to bring people along with himit says something about our current situation that i can’t even say his name because i don’t want to put him at risk but if a high school senior who doesn’t know what the future holds can do his part to move the world forward then we owe it to the world to do our part toobefore you walk out those gates one last time as we sit in front of memorial church i am reminded of a prayer mi shebeirach that i say whenever i face a challenge that i sing to my daughter thinking about her future when i tuck her into bed it goes“may the source of strength who blessed the ones before us help us find the courage to make our lives a blessing”i hope you find the courage to make your life a blessingcongratulations class of ’17 good luck out there'"
      ]
     },
     "execution_count": 8,
     "metadata": {},
     "output_type": "execute_result"
    }
   ],
   "source": [
    "#Removing all the punctuations and newline characters from text_lower:\n",
    "\n",
    "for i in punctuations:\n",
    "    text_lower=text_lower.replace(i,'')\n",
    "text_lower.replace('\\n','')"
   ]
  },
  {
   "cell_type": "markdown",
   "metadata": {},
   "source": [
    "## 2.Text-Pre-Processing:\n",
    "    -Tokenization\n",
    "\n",
    "    -Stop-Word Removal"
   ]
  },
  {
   "cell_type": "markdown",
   "metadata": {},
   "source": [
    "### 2.1 Tokenization"
   ]
  },
  {
   "cell_type": "markdown",
   "metadata": {},
   "source": [
    "Dividing the paragraphs into smaller tokens/units/words for them to make more meaning\n",
    "    \n",
    "NLP Analyzes words not sentences"
   ]
  },
  {
   "cell_type": "code",
   "execution_count": 9,
   "metadata": {},
   "outputs": [],
   "source": [
    "tokenized_text=text_lower.split()"
   ]
  },
  {
   "cell_type": "code",
   "execution_count": 10,
   "metadata": {},
   "outputs": [
    {
     "data": {
      "text/plain": [
       "['president',\n",
       " 'faust',\n",
       " 'board',\n",
       " 'of',\n",
       " 'overseers',\n",
       " 'faculty',\n",
       " 'alumni',\n",
       " 'friends',\n",
       " 'proud',\n",
       " 'parents']"
      ]
     },
     "execution_count": 10,
     "metadata": {},
     "output_type": "execute_result"
    }
   ],
   "source": [
    "tokenized_text[:10]#Displaying only the first few tokens using slicing"
   ]
  },
  {
   "cell_type": "markdown",
   "metadata": {},
   "source": [
    "### 2.2 Stop-Word Removal:"
   ]
  },
  {
   "cell_type": "markdown",
   "metadata": {},
   "source": [
    "Stop words add little or no meaning to the sentences and hence must be removed"
   ]
  },
  {
   "cell_type": "code",
   "execution_count": 11,
   "metadata": {},
   "outputs": [],
   "source": [
    "#List of generic stop words:\n",
    "stop_words = [\"i\", \"me\", \"my\", \"myself\", \"we\", \"our\", \"ours\", \"ourselves\", \"you\", \"your\", \"yours\", \"yourself\",\n",
    "              \"yourselves\", \"he\", \"him\", \"his\", \"himself\", \"she\", \"her\", \"hers\", \"herself\", \"it\", \"its\", \"itself\",\n",
    "              \"they\", \"them\", \"their\", \"theirs\", \"themselves\", \"what\", \"which\", \"who\", \"whom\", \"this\", \"that\", \"these\",\n",
    "              \"those\", \"am\", \"is\", \"are\", \"was\", \"were\", \"be\", \"been\", \"being\", \"have\", \"has\", \"had\", \"having\", \"do\",\n",
    "              \"does\", \"did\", \"doing\", \"a\", \"an\", \"the\", \"and\", \"but\", \"if\", \"or\", \"because\", \"as\", \"until\", \"while\",\n",
    "              \"of\", \"at\", \"by\", \"for\", \"with\", \"about\", \"against\", \"between\", \"into\", \"through\", \"during\", \"before\",\n",
    "              \"after\", \"above\", \"below\", \"to\", \"from\", \"up\", \"down\", \"in\", \"out\", \"on\", \"off\", \"over\", \"under\", \"again\",\n",
    "              \"further\", \"then\", \"once\", \"here\", \"there\", \"when\", \"where\", \"why\", \"how\", \"all\", \"any\", \"both\", \"each\",\n",
    "              \"few\", \"more\", \"most\", \"other\", \"some\", \"such\", \"no\", \"nor\", \"not\", \"only\", \"own\", \"same\", \"so\", \"than\",\n",
    "              \"too\", \"very\", \"s\", \"t\", \"can\", \"will\", \"just\", \"don\", \"should\", \"now\"]\n",
    "#(NLTK) Already contains a list o many stop words by default"
   ]
  },
  {
   "cell_type": "code",
   "execution_count": 12,
   "metadata": {},
   "outputs": [
    {
     "data": {
      "text/plain": [
       "3588"
      ]
     },
     "execution_count": 12,
     "metadata": {},
     "output_type": "execute_result"
    }
   ],
   "source": [
    "len(tokenized_text)#initial length of list before stop word removal"
   ]
  },
  {
   "cell_type": "code",
   "execution_count": 13,
   "metadata": {},
   "outputs": [],
   "source": [
    "for i in tokenized_text:\n",
    "    if i in stop_words:\n",
    "        tokenized_text.remove(i)"
   ]
  },
  {
   "cell_type": "code",
   "execution_count": 14,
   "metadata": {},
   "outputs": [
    {
     "data": {
      "text/plain": [
       "2363"
      ]
     },
     "execution_count": 14,
     "metadata": {},
     "output_type": "execute_result"
    }
   ],
   "source": [
    "len(tokenized_text)#final length of list after stop word removal"
   ]
  },
  {
   "cell_type": "code",
   "execution_count": 15,
   "metadata": {},
   "outputs": [
    {
     "data": {
      "text/plain": [
       "1225"
      ]
     },
     "execution_count": 15,
     "metadata": {},
     "output_type": "execute_result"
    }
   ],
   "source": [
    "3588-2363"
   ]
  },
  {
   "cell_type": "markdown",
   "metadata": {},
   "source": [
    "1225 Stop words removed"
   ]
  },
  {
   "cell_type": "markdown",
   "metadata": {},
   "source": [
    "## 3.Extracting Emotions from text:\n"
   ]
  },
  {
   "cell_type": "markdown",
   "metadata": {},
   "source": [
    "Importing a generic file which contains words and its related emotions:\n"
   ]
  },
  {
   "cell_type": "code",
   "execution_count": 16,
   "metadata": {},
   "outputs": [
    {
     "ename": "FileNotFoundError",
     "evalue": "[Errno 2] No such file or directory: 'C:\\\\Users\\\\HP\\\\Desktop\\\\CODE\\\\4.PROJECTS\\\\Sentiment Analysis using NLP\\\\emotions.txt'",
     "output_type": "error",
     "traceback": [
      "\u001b[1;31m---------------------------------------------------------------------------\u001b[0m",
      "\u001b[1;31mFileNotFoundError\u001b[0m                         Traceback (most recent call last)",
      "Cell \u001b[1;32mIn[16], line 3\u001b[0m\n\u001b[0;32m      1\u001b[0m new_path\u001b[38;5;241m=\u001b[39m\u001b[38;5;124mr\u001b[39m\u001b[38;5;124m\"\u001b[39m\u001b[38;5;124mC:\u001b[39m\u001b[38;5;124m\\\u001b[39m\u001b[38;5;124mUsers\u001b[39m\u001b[38;5;124m\\\u001b[39m\u001b[38;5;124mHP\u001b[39m\u001b[38;5;124m\\\u001b[39m\u001b[38;5;124mDesktop\u001b[39m\u001b[38;5;124m\\\u001b[39m\u001b[38;5;124mCODE\u001b[39m\u001b[38;5;124m\\\u001b[39m\u001b[38;5;124m4.PROJECTS\u001b[39m\u001b[38;5;124m\\\u001b[39m\u001b[38;5;124mSentiment Analysis using NLP\u001b[39m\u001b[38;5;124m\\\u001b[39m\u001b[38;5;124memotions.txt\u001b[39m\u001b[38;5;124m\"\u001b[39m\n\u001b[0;32m      2\u001b[0m emotions_lines\u001b[38;5;241m=\u001b[39m[]\n\u001b[1;32m----> 3\u001b[0m \u001b[38;5;28;01mwith\u001b[39;00m \u001b[38;5;28;43mopen\u001b[39;49m\u001b[43m(\u001b[49m\u001b[43mnew_path\u001b[49m\u001b[43m,\u001b[49m\u001b[38;5;124;43m'\u001b[39;49m\u001b[38;5;124;43mr\u001b[39;49m\u001b[38;5;124;43m'\u001b[39;49m\u001b[43m)\u001b[49m \u001b[38;5;28;01mas\u001b[39;00m new_file:\u001b[38;5;66;03m#Reading the text file and removing all the punctuations from it\u001b[39;00m\n\u001b[0;32m      4\u001b[0m     \u001b[38;5;28;01mfor\u001b[39;00m lines \u001b[38;5;129;01min\u001b[39;00m new_file:\n\u001b[0;32m      5\u001b[0m         lines\u001b[38;5;241m=\u001b[39mlines\u001b[38;5;241m.\u001b[39mreplace(\u001b[38;5;124m'\u001b[39m\u001b[38;5;130;01m\\n\u001b[39;00m\u001b[38;5;124m'\u001b[39m,\u001b[38;5;124m'\u001b[39m\u001b[38;5;124m'\u001b[39m)\u001b[38;5;241m.\u001b[39mreplace(\u001b[38;5;124m\"\u001b[39m\u001b[38;5;124m'\u001b[39m\u001b[38;5;124m\"\u001b[39m,\u001b[38;5;124m'\u001b[39m\u001b[38;5;124m'\u001b[39m)\u001b[38;5;241m.\u001b[39mreplace(\u001b[38;5;124m'\u001b[39m\u001b[38;5;124m,\u001b[39m\u001b[38;5;124m'\u001b[39m,\u001b[38;5;124m'\u001b[39m\u001b[38;5;124m'\u001b[39m)\u001b[38;5;241m.\u001b[39mreplace(\u001b[38;5;124m'\u001b[39m\u001b[38;5;124m \u001b[39m\u001b[38;5;124m'\u001b[39m,\u001b[38;5;124m'\u001b[39m\u001b[38;5;124m'\u001b[39m)\u001b[38;5;66;03m#The last one replaces blank space with no space\u001b[39;00m\n",
      "File \u001b[1;32mc:\\Users\\HP\\AppData\\Local\\Programs\\Python\\Python312\\Lib\\site-packages\\IPython\\core\\interactiveshell.py:324\u001b[0m, in \u001b[0;36m_modified_open\u001b[1;34m(file, *args, **kwargs)\u001b[0m\n\u001b[0;32m    317\u001b[0m \u001b[38;5;28;01mif\u001b[39;00m file \u001b[38;5;129;01min\u001b[39;00m {\u001b[38;5;241m0\u001b[39m, \u001b[38;5;241m1\u001b[39m, \u001b[38;5;241m2\u001b[39m}:\n\u001b[0;32m    318\u001b[0m     \u001b[38;5;28;01mraise\u001b[39;00m \u001b[38;5;167;01mValueError\u001b[39;00m(\n\u001b[0;32m    319\u001b[0m         \u001b[38;5;124mf\u001b[39m\u001b[38;5;124m\"\u001b[39m\u001b[38;5;124mIPython won\u001b[39m\u001b[38;5;124m'\u001b[39m\u001b[38;5;124mt let you open fd=\u001b[39m\u001b[38;5;132;01m{\u001b[39;00mfile\u001b[38;5;132;01m}\u001b[39;00m\u001b[38;5;124m by default \u001b[39m\u001b[38;5;124m\"\u001b[39m\n\u001b[0;32m    320\u001b[0m         \u001b[38;5;124m\"\u001b[39m\u001b[38;5;124mas it is likely to crash IPython. If you know what you are doing, \u001b[39m\u001b[38;5;124m\"\u001b[39m\n\u001b[0;32m    321\u001b[0m         \u001b[38;5;124m\"\u001b[39m\u001b[38;5;124myou can use builtins\u001b[39m\u001b[38;5;124m'\u001b[39m\u001b[38;5;124m open.\u001b[39m\u001b[38;5;124m\"\u001b[39m\n\u001b[0;32m    322\u001b[0m     )\n\u001b[1;32m--> 324\u001b[0m \u001b[38;5;28;01mreturn\u001b[39;00m \u001b[43mio_open\u001b[49m\u001b[43m(\u001b[49m\u001b[43mfile\u001b[49m\u001b[43m,\u001b[49m\u001b[43m \u001b[49m\u001b[38;5;241;43m*\u001b[39;49m\u001b[43margs\u001b[49m\u001b[43m,\u001b[49m\u001b[43m \u001b[49m\u001b[38;5;241;43m*\u001b[39;49m\u001b[38;5;241;43m*\u001b[39;49m\u001b[43mkwargs\u001b[49m\u001b[43m)\u001b[49m\n",
      "\u001b[1;31mFileNotFoundError\u001b[0m: [Errno 2] No such file or directory: 'C:\\\\Users\\\\HP\\\\Desktop\\\\CODE\\\\4.PROJECTS\\\\Sentiment Analysis using NLP\\\\emotions.txt'"
     ]
    }
   ],
   "source": [
    "new_path=r\"C:\\Users\\HP\\Desktop\\CODE\\4.PROJECTS\\Sentiment Analysis using NLP\\emotions.txt\"\n",
    "emotions_lines=[]\n",
    "with open(new_path,'r') as new_file:#Reading the text file and removing all the punctuations from it\n",
    "    for lines in new_file:\n",
    "        lines=lines.replace('\\n','').replace(\"'\",'').replace(',','').replace(' ','')#The last one replaces blank space with no space\n",
    "        new_lines=lines.split(':')\n",
    "        emotions_lines.extend(new_lines)\n",
    "        "
   ]
  },
  {
   "cell_type": "code",
   "execution_count": 64,
   "metadata": {},
   "outputs": [
    {
     "data": {
      "text/plain": [
       "['victimized',\n",
       " 'cheated',\n",
       " 'accused',\n",
       " 'cheated',\n",
       " 'acquitted',\n",
       " 'singledout',\n",
       " 'adorable',\n",
       " 'loved',\n",
       " 'adored',\n",
       " 'loved']"
      ]
     },
     "execution_count": 64,
     "metadata": {},
     "output_type": "execute_result"
    }
   ],
   "source": [
    "emotions_lines[:10]"
   ]
  },
  {
   "cell_type": "code",
   "execution_count": 65,
   "metadata": {},
   "outputs": [],
   "source": [
    "#packing the list into a dictionary\n",
    "emotions_dict={}\n",
    "i=0\n",
    "while i< len(emotions_lines)-1:\n",
    "    \n",
    "    emotions_dict[emotions_lines[i]]=emotions_lines[i+1]\n",
    "    \n",
    "    i+=2\n",
    "    \n"
   ]
  },
  {
   "cell_type": "code",
   "execution_count": 66,
   "metadata": {},
   "outputs": [
    {
     "data": {
      "text/plain": [
       "{'victimized': 'sad',\n",
       " 'accused': 'cheated',\n",
       " 'acquitted': 'singledout',\n",
       " 'adorable': 'loved',\n",
       " 'adored': 'loved',\n",
       " 'affected': 'attracted',\n",
       " 'afflicted': 'sad',\n",
       " 'aghast': 'fearful',\n",
       " 'agog': 'attracted',\n",
       " 'agonized': 'sad',\n",
       " 'alarmed': 'fearful',\n",
       " 'amused': 'happy',\n",
       " 'angry': 'angry',\n",
       " 'anguished': 'sad',\n",
       " 'animated': 'happy',\n",
       " 'annoyed': 'angry',\n",
       " 'anxious': 'attracted',\n",
       " 'apathetic': 'apathetic',\n",
       " 'appalled': 'angry',\n",
       " 'appeased': 'singledout',\n",
       " 'appreciated': 'esteemed',\n",
       " 'apprehensive': 'anxious',\n",
       " 'approvedof': 'loved',\n",
       " 'ardent': 'lustful',\n",
       " 'aroused': 'lustful',\n",
       " 'attached': 'attached',\n",
       " 'attracted': 'attracted',\n",
       " 'autonomous': 'free',\n",
       " 'awed': 'fearful',\n",
       " 'awkward': 'embarrassed',\n",
       " 'beatendown': 'powerless',\n",
       " 'beatific': 'happy',\n",
       " 'belonging': 'attached',\n",
       " 'bereaved': 'sad',\n",
       " 'betrayed': 'cheated',\n",
       " 'bewildered': 'surprise',\n",
       " 'bitter': 'angry',\n",
       " 'blissful': 'happy',\n",
       " 'blithe': 'happy',\n",
       " 'blocked': 'powerless',\n",
       " 'blue': 'sad',\n",
       " 'boiling': 'angry',\n",
       " 'bold': 'fearless',\n",
       " 'bored': 'bored',\n",
       " 'brave': 'fearless',\n",
       " 'bright': 'happy',\n",
       " 'brisk': 'happy',\n",
       " 'calm': 'safe',\n",
       " 'capable': 'adequate',\n",
       " 'captivated': 'attached',\n",
       " 'careless': 'powerless',\n",
       " 'categorized': 'singledout',\n",
       " 'cautious': 'fearful',\n",
       " 'certain': 'fearless',\n",
       " 'chagrined': 'belittled',\n",
       " 'challenged': 'attracted',\n",
       " 'chastised': 'hated',\n",
       " 'cheated': 'cheated',\n",
       " 'cheerful': 'happy',\n",
       " 'cheerless': 'sad',\n",
       " 'cheery': 'happy',\n",
       " 'cherished': 'attached',\n",
       " 'chicken': 'fearful',\n",
       " 'cocky': 'independent',\n",
       " 'codependent': 'codependent',\n",
       " 'coerced': 'cheated',\n",
       " 'comfortable': 'happy',\n",
       " 'common': 'average',\n",
       " 'competent': 'adequate',\n",
       " 'complacent': 'apathetic',\n",
       " 'composed': 'adequate',\n",
       " 'concerned': 'attracted',\n",
       " 'confident': 'adequate',\n",
       " 'confused': 'surprise',\n",
       " 'connected': 'attached',\n",
       " 'conned': 'cheated',\n",
       " 'consumed': 'obsessed',\n",
       " 'contented': 'happy',\n",
       " 'controlled': 'powerless',\n",
       " 'convivial': 'happy',\n",
       " 'cornered': 'entitled',\n",
       " 'courageous': 'fearless',\n",
       " 'cowardly': 'fearful',\n",
       " 'craving': 'attracted',\n",
       " 'crestfallen': 'sad',\n",
       " 'criticized': 'hated',\n",
       " 'cross': 'angry',\n",
       " 'cross-examined': 'singledout',\n",
       " 'crushed': 'sad',\n",
       " 'curious': 'attracted',\n",
       " 'cutoff': 'alone',\n",
       " 'daring': 'fearless',\n",
       " 'dark': 'sad',\n",
       " 'dedicated': 'attracted',\n",
       " 'defeated': 'powerless',\n",
       " 'defenseless': 'fearful',\n",
       " 'degraded': 'belittled',\n",
       " 'dejected': 'sad',\n",
       " 'depressed': 'sad',\n",
       " 'deserted': 'hated',\n",
       " 'desirable': 'loved',\n",
       " 'despondent': 'sad',\n",
       " 'detached': 'alone',\n",
       " 'determined': 'focused',\n",
       " 'diminished': 'belittled',\n",
       " 'disappointed': 'demoralized',\n",
       " 'discarded': 'hated',\n",
       " 'disconsolate': 'sad',\n",
       " 'discontented': 'sad',\n",
       " 'discounted': 'belittled',\n",
       " 'discouraged': 'powerless',\n",
       " 'disgraced': 'belittled',\n",
       " 'disgusted': 'angry',\n",
       " 'disheartened': 'sad',\n",
       " 'disillusioned': 'demoralized',\n",
       " 'disjointed': 'derailed',\n",
       " 'dismal': 'sad',\n",
       " 'dismayed': 'fearful',\n",
       " 'disoriented': 'derailed',\n",
       " 'disparaged': 'cheated',\n",
       " 'displeased': 'sad',\n",
       " 'disrespected': 'belittled',\n",
       " 'distressed': 'sad',\n",
       " 'distrustful': 'anxious',\n",
       " 'dolorous': 'sad',\n",
       " 'doubtful': 'fearful',\n",
       " 'down': 'sad',\n",
       " 'downhearted': 'sad',\n",
       " 'dreadful': 'sad',\n",
       " 'dreary': 'sad',\n",
       " 'dubious': 'anxious',\n",
       " 'dull': 'sad',\n",
       " 'duped': 'cheated',\n",
       " 'eager': 'attracted',\n",
       " 'earnest': 'attracted',\n",
       " 'ecstatic': 'happy',\n",
       " 'elated': 'happy',\n",
       " 'embarrassed': 'embarrassed',\n",
       " 'empathetic': 'attached',\n",
       " 'enchanted': 'attracted',\n",
       " 'encouraged': 'adequate',\n",
       " 'engrossed': 'attracted',\n",
       " 'enraged': 'angry',\n",
       " 'enterprising': 'fearless',\n",
       " 'enthusiastic': 'happy',\n",
       " 'entrusted': 'loved',\n",
       " 'esteemed': 'esteemed',\n",
       " 'excited': 'adequate',\n",
       " 'excluded': 'alone',\n",
       " 'exempt': 'entitled',\n",
       " 'exhaustedhopeless': 'powerless',\n",
       " 'exhilarated': 'happy',\n",
       " 'exploited': 'cheated',\n",
       " 'exposed': 'fearful',\n",
       " 'fabulous': 'ecstatic',\n",
       " 'fainthearted': 'fearful',\n",
       " 'fantastic': 'ecstatic',\n",
       " 'fascinated': 'attracted',\n",
       " 'favored': 'entitled',\n",
       " 'fearful': 'fearful',\n",
       " 'fervent': 'attracted',\n",
       " 'fervid': 'attracted',\n",
       " 'festive': 'happy',\n",
       " 'flat': 'sad',\n",
       " 'focused': 'focused',\n",
       " 'forced': 'powerless',\n",
       " 'forsaken': 'hated',\n",
       " 'framed': 'cheated',\n",
       " 'free': 'free',\n",
       " 'free&easy': 'happy',\n",
       " 'frightened': 'fearful',\n",
       " 'frisky': 'happy',\n",
       " 'frustrated': 'angry',\n",
       " 'fullofanticipation': 'attracted',\n",
       " 'fullofennui': 'apathetic',\n",
       " 'fuming': 'angry',\n",
       " 'funereal': 'sad',\n",
       " 'furious': 'angry',\n",
       " 'gallant': 'fearless',\n",
       " 'genial': 'happy',\n",
       " 'glad': 'happy',\n",
       " 'gleeful': 'happy',\n",
       " 'gloomy': 'sad',\n",
       " 'glum': 'sad',\n",
       " 'grief-stricken': 'sad',\n",
       " 'grieved': 'sad',\n",
       " 'guilt': 'sad',\n",
       " 'guilty': 'singledout',\n",
       " 'happy': 'happy',\n",
       " 'hardy': 'fearless',\n",
       " 'heartbroken': 'sad',\n",
       " 'heavyhearted': 'sad',\n",
       " 'hesitant': 'fearful',\n",
       " 'high-spirited': 'happy',\n",
       " 'hilarious': 'happy',\n",
       " 'hopeful': 'attracted',\n",
       " 'horny': 'lustful',\n",
       " 'horrified': 'fearful',\n",
       " 'hotandbothered': 'lustful',\n",
       " 'humiliated': 'sad',\n",
       " 'humorous': 'happy',\n",
       " 'hurt': 'sad',\n",
       " 'hysterical': 'fearful',\n",
       " 'ignored': 'hated',\n",
       " 'illatease': 'sad',\n",
       " 'immobilized': 'apathetic',\n",
       " 'immune': 'entitled',\n",
       " 'important': 'happy',\n",
       " 'impotent': 'powerless',\n",
       " 'imprisoned': 'entitled',\n",
       " 'inahuff': 'angry',\n",
       " 'inastew': 'angry',\n",
       " 'incontrol': 'adequate',\n",
       " 'infear': 'fearful',\n",
       " 'inpain': 'sad',\n",
       " 'inthedumps': 'sad',\n",
       " 'inthezone': 'focused',\n",
       " 'incensed': 'angry',\n",
       " 'included': 'attached',\n",
       " 'indecisive': 'anxious',\n",
       " 'independent': 'free',\n",
       " 'indignant': 'angry',\n",
       " 'infatuated': 'lustful',\n",
       " 'inflamed': 'angry',\n",
       " 'injured': 'sad',\n",
       " 'inquisitive': 'attracted',\n",
       " 'insecure': 'fearful',\n",
       " 'insignificant': 'belittled',\n",
       " 'intent': 'attracted',\n",
       " 'interested': 'attracted',\n",
       " 'interrogated': 'singledout',\n",
       " 'intrigued': 'attracted',\n",
       " 'irate': 'angry',\n",
       " 'irresolute': 'fearful',\n",
       " 'irresponsible': 'powerless',\n",
       " 'irritated': 'angry',\n",
       " 'isolated': 'alone',\n",
       " 'jaunty': 'happy',\n",
       " 'jocular': 'happy',\n",
       " 'jolly': 'happy',\n",
       " 'jovial': 'happy',\n",
       " 'joyful': 'happy',\n",
       " 'joyless': 'sad',\n",
       " 'joyous': 'happy',\n",
       " 'jubilant': 'happy',\n",
       " 'justified': 'singledout',\n",
       " 'keen': 'attracted',\n",
       " 'labeled': 'singledout',\n",
       " 'lackadaisical': 'bored',\n",
       " 'lazy': 'apathetic',\n",
       " 'leftout': 'hated',\n",
       " 'letdown': 'hated',\n",
       " 'lethargic': 'apathetic',\n",
       " 'liedto': 'cheated',\n",
       " 'lighthearted': 'happy',\n",
       " 'liked': 'attached',\n",
       " 'lively': 'happy',\n",
       " 'livid': 'angry',\n",
       " 'lonely': 'alone',\n",
       " 'lonesome': 'alone',\n",
       " 'lost': 'lost',\n",
       " 'loved': 'loved',\n",
       " 'low': 'sad',\n",
       " 'lucky': 'happy',\n",
       " 'lugubrious': 'sad',\n",
       " 'macho': 'independent',\n",
       " 'mad': 'angry',\n",
       " 'melancholy': 'sad',\n",
       " 'menaced': 'fearful',\n",
       " 'merry': 'happy',\n",
       " 'mirthful': 'happy',\n",
       " 'misgiving': 'fearful',\n",
       " 'misunderstood': 'alone',\n",
       " 'moody': 'sad',\n",
       " 'moping': 'sad',\n",
       " 'motivated': 'attracted',\n",
       " 'mournful': 'sad',\n",
       " 'needed': 'attracted',\n",
       " 'needy': 'codependent',\n",
       " 'nervous': 'fearful',\n",
       " 'obligated': 'powerless',\n",
       " 'obsessed': 'obsessed',\n",
       " 'offended': 'angry',\n",
       " 'oppressed': 'sad',\n",
       " 'optionless': 'entitled',\n",
       " 'ordinary': 'average',\n",
       " 'organized': 'adequate',\n",
       " 'outofcontrol': 'powerless',\n",
       " 'outofsorts': 'sad',\n",
       " 'outmaneuvered': 'entitled',\n",
       " 'outraged': 'angry',\n",
       " 'overjoyed': 'happy',\n",
       " 'overlooked': 'hated',\n",
       " 'overwhelmed': 'powerless',\n",
       " 'panicked': 'fearful',\n",
       " 'passionate': 'lustful',\n",
       " 'passive': 'apathetic',\n",
       " 'pathetic': 'sad',\n",
       " 'peaceful': 'happy',\n",
       " 'pensive': 'anxious',\n",
       " 'perplexed': 'anxious',\n",
       " 'phobic': 'fearful',\n",
       " 'playful': 'happy',\n",
       " 'pleased': 'happy',\n",
       " 'powerless': 'powerless',\n",
       " 'pressured': 'burdened',\n",
       " 'privileged': 'entitled',\n",
       " 'proud': 'happy',\n",
       " 'provoked': 'angry',\n",
       " 'punished': 'hated',\n",
       " 'putupon': 'burdened',\n",
       " 'quaking': 'fearful',\n",
       " 'quiescent': 'apathetic',\n",
       " 'rageful': 'angry',\n",
       " 'rapturous': 'happy',\n",
       " 'rated': 'singledout',\n",
       " 'reassured': 'fearless',\n",
       " 'reckless': 'powerless',\n",
       " 'redeemed': 'singledout',\n",
       " 'regretful': 'sad',\n",
       " 'rejected': 'hated',\n",
       " 'released': 'free',\n",
       " 'remorse': 'sad',\n",
       " 'replaced': 'hated',\n",
       " 'repulsed': 'demoralized',\n",
       " 'resentful': 'angry',\n",
       " 'resolute': 'fearless',\n",
       " 'respected': 'esteemed',\n",
       " 'responsible': 'adequate',\n",
       " 'restful': 'fearful',\n",
       " 'revered': 'esteemed',\n",
       " 'rueful': 'sad',\n",
       " 'sad': 'sad',\n",
       " 'satisfied': 'happy',\n",
       " 'saucy': 'happy',\n",
       " 'scared': 'fearful',\n",
       " 'secure': 'fearless',\n",
       " 'self-reliant': 'fearless',\n",
       " 'serene': 'happy',\n",
       " 'shaky': 'fearful',\n",
       " 'shamed': 'sad',\n",
       " 'shocked': 'surprise',\n",
       " 'significant': 'esteemed',\n",
       " 'singledout': 'singledout',\n",
       " 'skeptical': 'anxious',\n",
       " 'snoopy': 'attracted',\n",
       " 'somber': 'sad',\n",
       " 'sparkling': 'happy',\n",
       " 'spirited': 'sad',\n",
       " 'spiritless': 'sad',\n",
       " 'sprightly': 'happy',\n",
       " 'startled': 'surprise',\n",
       " 'stereotyped': 'singledout',\n",
       " 'stifled': 'powerless',\n",
       " 'stouthearted': 'fearless',\n",
       " 'strong': 'independent',\n",
       " 'suffering': 'sad',\n",
       " 'sulky': 'sad',\n",
       " 'sullen': 'angry',\n",
       " 'sunny': 'happy',\n",
       " 'surprised': 'surprise',\n",
       " 'suspicious': 'fearful',\n",
       " 'sympathetic': 'codependent',\n",
       " 'tense': 'anxious',\n",
       " 'terrified': 'fearful',\n",
       " 'terrorized': 'fearful',\n",
       " 'thankful': 'happy',\n",
       " 'threatened': 'fearful',\n",
       " 'thwarted': 'powerless',\n",
       " 'timid': 'fearful',\n",
       " 'timorous': 'fearful',\n",
       " 'torn': 'derailed',\n",
       " 'tortured': 'sad',\n",
       " 'tragic': 'sad',\n",
       " 'tranquil': 'happy',\n",
       " 'transported': 'happy',\n",
       " 'trapped': 'entitled',\n",
       " 'tremulous': 'fearful',\n",
       " 'tricked': 'entitled',\n",
       " 'turnedon': 'lustful',\n",
       " 'unapprovedof': 'hated',\n",
       " 'unbelieving': 'anxious',\n",
       " 'uncertain': 'anxious',\n",
       " 'unconcerned': 'apathetic',\n",
       " 'understood': 'attached',\n",
       " 'unfocussed': 'lost',\n",
       " 'unlovable': 'hated',\n",
       " 'unloved': 'hated',\n",
       " 'unmotivated': 'apathetic',\n",
       " 'unshackled': 'free',\n",
       " 'unsupported': 'belittled',\n",
       " 'upinarms': 'angry',\n",
       " 'upset': 'fearful',\n",
       " 'validated': 'loved',\n",
       " 'valued': 'esteemed',\n",
       " 'violated': 'cheated',\n",
       " 'virulent': 'angry',\n",
       " 'vivacious': 'happy',\n",
       " 'vulnerable': 'powerless',\n",
       " 'wavering': 'anxious',\n",
       " 'weak': 'powerless',\n",
       " 'welcomed': 'loved',\n",
       " 'woebegone': 'sad',\n",
       " 'woeful': 'sad',\n",
       " 'worndown': 'powerless',\n",
       " 'wornout': 'powerless',\n",
       " 'worried': 'fearful',\n",
       " 'worshiped': 'esteemed',\n",
       " 'wrathful': 'angry',\n",
       " 'wronged': 'singledout',\n",
       " 'wroughtup': 'angry',\n",
       " 'yearning': 'lustful',\n",
       " 'yellow': 'fearful',\n",
       " 'zealous': 'attracted',\n",
       " 'abandoned': 'hated',\n",
       " 'absolved': 'singledout',\n",
       " 'absorbed': 'attracted',\n",
       " 'abused': 'powerless',\n",
       " 'accepted': 'loved',\n",
       " 'aching': 'sad',\n",
       " 'acrimonious': 'angry',\n",
       " 'addicted': 'codependent',\n",
       " 'adequate': 'adequate',\n",
       " 'admired': 'esteemed',\n",
       " 'affectionate': 'attached',\n",
       " 'affronted': 'singledout',\n",
       " 'afraid': 'fearful',\n",
       " 'airy': 'happy',\n",
       " 'alone': 'alone',\n",
       " 'ambivalent': 'bored',\n",
       " 'arrogant': 'independent',\n",
       " 'ashamed': 'embarrassed',\n",
       " 'astonished': 'surprise',\n",
       " 'atease': 'safe',\n",
       " 'attacked': 'fearful',\n",
       " 'audacious': 'fearless',\n",
       " 'average': 'average',\n",
       " 'avid': 'attracted',\n",
       " 'baffled': 'lost',\n",
       " 'bashful': 'powerless',\n",
       " 'belittled': 'belittled',\n",
       " 'buoyant': 'happy',\n",
       " 'burdened': 'burdened',\n",
       " 'clouded': 'sad',\n",
       " 'committed': 'focused',\n",
       " 'compassionate': 'attached',\n",
       " 'compelled': 'obsessed',\n",
       " 'dauntless': 'fearless',\n",
       " 'debonair': 'happy',\n",
       " 'deceived': 'entitled',\n",
       " 'delighted': 'ecstatic',\n",
       " 'demoralized': 'demoralized',\n",
       " 'derailed': 'derailed',\n",
       " 'desirous': 'attracted',\n",
       " 'despairing': 'sad',\n",
       " 'devastated': 'angry',\n",
       " 'diffident': 'fearful',\n",
       " 'discredited': 'belittled',\n",
       " 'disinclined': 'demoralized',\n",
       " 'disorganized': 'powerless',\n",
       " 'downcast': 'sad',\n",
       " 'entitled': 'entitled',\n",
       " 'exultant': 'happy',\n",
       " 'fidgety': 'fearful',\n",
       " 'frowning': 'sad',\n",
       " 'fullofmisgiving': 'anxious',\n",
       " 'great': 'happy',\n",
       " 'hapless': 'sad',\n",
       " 'hated': 'hated',\n",
       " 'heroic': 'fearless',\n",
       " 'hostile': 'angry',\n",
       " 'indespair': 'sad',\n",
       " 'indifferent': 'bored',\n",
       " 'infuriated': 'angry',\n",
       " 'inspired': 'happy',\n",
       " 'inspiring': 'attracted',\n",
       " 'judged': 'singledout',\n",
       " 'laughting': 'happy',\n",
       " 'loving': 'attached',\n",
       " 'lustful': 'lustful',\n",
       " 'manipulated': 'cheated',\n",
       " 'mumpish': 'sad',\n",
       " 'nosey': 'attracted',\n",
       " 'numb': 'apathetic',\n",
       " 'obliterated': 'powerless',\n",
       " 'petrified': 'fearful',\n",
       " 'piqued': 'angry',\n",
       " 'piteous': 'sad',\n",
       " 'questioning': 'anxious',\n",
       " 'self-satisfied': 'happy',\n",
       " 'setup': 'entitled',\n",
       " 'shutout': 'alone',\n",
       " 'sorrowful': 'sad',\n",
       " 'supported': 'esteemed',\n",
       " 'terrific': 'happy',\n",
       " 'trembling': 'fearful',\n",
       " 'uncomfortable': 'anxious',\n",
       " 'underestimated': 'belittled',\n",
       " 'unhappy': 'sad',\n",
       " 'vindicated': 'singledout',\n",
       " 'workedup': 'angry'}"
      ]
     },
     "execution_count": 66,
     "metadata": {},
     "output_type": "execute_result"
    }
   ],
   "source": [
    "emotions_dict\n",
    "#keys are: Words\n",
    "#Values are : Emotions"
   ]
  },
  {
   "cell_type": "markdown",
   "metadata": {},
   "source": [
    "## 5.Finding Emotions in text:\n"
   ]
  },
  {
   "cell_type": "code",
   "execution_count": 75,
   "metadata": {},
   "outputs": [],
   "source": [
    "emotions_in_text=[]\n",
    "for i in tokenized_text:\n",
    "    for j in emotions_dict:\n",
    "        if i==j:\n",
    "            emotions_in_text.append(emotions_dict[j])"
   ]
  },
  {
   "cell_type": "code",
   "execution_count": 80,
   "metadata": {},
   "outputs": [
    {
     "data": {
      "text/plain": [
       "['happy',\n",
       " 'sad',\n",
       " 'happy',\n",
       " 'happy',\n",
       " 'happy',\n",
       " 'happy',\n",
       " 'attracted',\n",
       " 'happy',\n",
       " 'sad',\n",
       " 'adequate']"
      ]
     },
     "execution_count": 80,
     "metadata": {},
     "output_type": "execute_result"
    }
   ],
   "source": [
    "emotions_in_text[:10]"
   ]
  },
  {
   "cell_type": "markdown",
   "metadata": {},
   "source": [
    "Counting the unique Emotions:"
   ]
  },
  {
   "cell_type": "code",
   "execution_count": 77,
   "metadata": {},
   "outputs": [],
   "source": [
    "from collections import Counter\n"
   ]
  },
  {
   "cell_type": "code",
   "execution_count": 78,
   "metadata": {},
   "outputs": [],
   "source": [
    "count_emotions=Counter(emotions_in_text)\n"
   ]
  },
  {
   "cell_type": "code",
   "execution_count": 79,
   "metadata": {},
   "outputs": [
    {
     "data": {
      "text/plain": [
       "Counter({'happy': 14,\n",
       "         'alone': 6,\n",
       "         'sad': 5,\n",
       "         'hated': 3,\n",
       "         'attracted': 2,\n",
       "         'adequate': 1,\n",
       "         'anxious': 1,\n",
       "         'fearful': 1,\n",
       "         'free': 1,\n",
       "         'focused': 1,\n",
       "         'attached': 1})"
      ]
     },
     "execution_count": 79,
     "metadata": {},
     "output_type": "execute_result"
    }
   ],
   "source": [
    "count_emotions"
   ]
  },
  {
   "cell_type": "markdown",
   "metadata": {},
   "source": [
    "## 6.Plotting Frequency of Emotions:\n",
    "    -Matplotlib\n"
   ]
  },
  {
   "cell_type": "code",
   "execution_count": 82,
   "metadata": {},
   "outputs": [],
   "source": [
    "import matplotlib.pyplot as plt"
   ]
  },
  {
   "cell_type": "code",
   "execution_count": 91,
   "metadata": {},
   "outputs": [
    {
     "data": {
      "image/png": "[encoded data removed]",
      "text/plain": [
       "<Figure size 640x480 with 1 Axes>"
      ]
     },
     "metadata": {},
     "output_type": "display_data"
    }
   ],
   "source": [
    "plt.bar(count_emotions.keys(),count_emotions.values(),color='#AFE1AF')\n",
    "plt.title('Emotions and thier Dominance:')\n",
    "plt.xlabel('EMOTIONS-->')\n",
    "plt.ylabel('FREQUENCY-->')\n",
    "plt.xticks(rotation=45)\n",
    "plt.show()"
   ]
  },
  {
   "cell_type": "markdown",
   "metadata": {},
   "source": [
    "    -The bar plot shows HAPPY, SAD and ALONE as DOMINANT EMOTIONS"
   ]
  },
  {
   "cell_type": "markdown",
   "metadata": {},
   "source": [
    "__________"
   ]
  },
  {
   "cell_type": "markdown",
   "metadata": {},
   "source": []
  },
  {
   "cell_type": "code",
   "execution_count": null,
   "metadata": {},
   "outputs": [],
   "source": []
  }
 ],
 "metadata": {
  "kernelspec": {
   "display_name": "Python 3",
   "language": "python",
   "name": "python3"
  },
  "language_info": {
   "codemirror_mode": {
    "name": "ipython",
    "version": 3
   },
   "file_extension": ".py",
   "mimetype": "text/x-python",
   "name": "python",
   "nbconvert_exporter": "python",
   "pygments_lexer": "ipython3",
   "version": "3.12.4"
  }
 },
 "nbformat": 4,
 "nbformat_minor": 2
}
